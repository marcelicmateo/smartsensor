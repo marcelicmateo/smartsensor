{
 "cells": [
  {
   "cell_type": "code",
   "execution_count": 1,
   "metadata": {},
   "outputs": [],
   "source": [
    "import sympy as sp\n",
    "from IPython.display import display, Markdown\n",
    "#mport numpy as np\n",
    "R_ntc, U_ntc, U_shunt, Zeff, R_shunt, r= sp.symbols('R_ntc U_ntc U_shunt Zeff R_shunt r', positive=True, real=True)"
   ]
  },
  {
   "cell_type": "code",
   "execution_count": 2,
   "metadata": {
    "scrolled": true
   },
   "outputs": [
    {
     "data": {
      "text/latex": [
       "$\\displaystyle \\frac{R_{shunt} Zeff r}{- R_{shunt} r + R_{shunt} + Zeff}$"
      ],
      "text/plain": [
       "R_shunt*Zeff*r/(-R_shunt*r + R_shunt + Zeff)"
      ]
     },
     "metadata": {},
     "output_type": "display_data"
    },
    {
     "name": "stdout",
     "output_type": "stream",
     "text": [
      "R_shunt*Zeff*r/(-R_shunt*r + R_shunt + Zeff)\n"
     ]
    }
   ],
   "source": [
    "#r=U_ntc / U_shunt ovo je samo napomena\n",
    "R_ntc = r * Zeff *R_shunt / (R_shunt + Zeff - (r * R_shunt ))\n",
    "display(sp.simplify(R_ntc))\n",
    "print(R_ntc)"
   ]
  },
  {
   "cell_type": "code",
   "execution_count": 3,
   "metadata": {},
   "outputs": [
    {
     "data": {
      "text/latex": [
       "$\\displaystyle \\frac{R_{shunt} Zeff \\left(R_{shunt} + Zeff\\right)}{\\left(- R_{shunt} r + R_{shunt} + Zeff\\right)^{2}}$"
      ],
      "text/plain": [
       "R_shunt*Zeff*(R_shunt + Zeff)/(-R_shunt*r + R_shunt + Zeff)**2"
      ]
     },
     "metadata": {},
     "output_type": "display_data"
    },
    {
     "data": {
      "text/latex": [
       "$\\displaystyle \\frac{Zeff^{2} r}{\\left(- R_{shunt} r + R_{shunt} + Zeff\\right)^{2}}$"
      ],
      "text/plain": [
       "Zeff**2*r/(-R_shunt*r + R_shunt + Zeff)**2"
      ]
     },
     "metadata": {},
     "output_type": "display_data"
    },
    {
     "name": "stdout",
     "output_type": "stream",
     "text": [
      "R_shunt*Zeff*(R_shunt + Zeff)/(-R_shunt*r + R_shunt + Zeff)**2\n",
      "Zeff**2*r/(-R_shunt*r + R_shunt + Zeff)**2\n"
     ]
    }
   ],
   "source": [
    "#parcijalne derivacije po komponenetama da radi STD-a\n",
    "R_ntc_r = R_ntc.diff(r)\n",
    "R_ntc_shunt = R_ntc.diff(R_shunt)\n",
    "\n",
    "display(sp.simplify(R_ntc_r), sp.simplify(R_ntc_shunt))\n",
    "print(sp.simplify(R_ntc_r))\n",
    "print( sp.simplify(R_ntc_shunt))"
   ]
  },
  {
   "cell_type": "code",
   "execution_count": 4,
   "metadata": {},
   "outputs": [
    {
     "data": {
      "text/latex": [
       "$\\displaystyle \\frac{Zeff \\sqrt{R_{shunt}^{2} std(r)^{2} \\left(R_{shunt} + Zeff\\right)^{2} + Zeff^{2} r^{2} std(shunt)^{2}}}{\\left(- R_{shunt} r + R_{shunt} + Zeff\\right)^{2}}$"
      ],
      "text/plain": [
       "Zeff*sqrt(R_shunt**2*std(r)**2*(R_shunt + Zeff)**2 + Zeff**2*r**2*std(shunt)**2)/(-R_shunt*r + R_shunt + Zeff)**2"
      ]
     },
     "metadata": {},
     "output_type": "display_data"
    },
    {
     "name": "stdout",
     "output_type": "stream",
     "text": [
      "Zeff*sqrt(R_shunt**2*std(r)**2*(R_shunt + Zeff)**2 + Zeff**2*r**2*std(shunt)**2)/(-R_shunt*r + R_shunt + Zeff)**2\n"
     ]
    }
   ],
   "source": [
    "#mnozenje sa std od pojedinih komponenti\n",
    "ntc_std, r_std, R_shunt_std= sp.symbols('std(ntc) std(r) std(shunt)', real=True, positive=True)\n",
    "ntc_std=sp.sqrt((R_ntc_r * r_std)**2 + (R_ntc_shunt * R_shunt_std)**2)\n",
    "display(sp.simplify(ntc_std))\n",
    "print(sp.simplify(ntc_std))"
   ]
  },
  {
   "cell_type": "code",
   "execution_count": 5,
   "metadata": {},
   "outputs": [
    {
     "data": {
      "text/latex": [
       "$\\displaystyle \\frac{R_{shunt} U_{ntc} Zeff}{- R_{shunt} U_{ntc} + U_{shunt} \\left(R_{shunt} + Zeff\\right)}$"
      ],
      "text/plain": [
       "R_shunt*U_ntc*Zeff/(-R_shunt*U_ntc + U_shunt*(R_shunt + Zeff))"
      ]
     },
     "metadata": {},
     "output_type": "display_data"
    }
   ],
   "source": [
    "#ukoliko gledamo r kao omjer napona\n",
    "r=U_ntc / U_shunt\n",
    "R_ntc = r * Zeff *R_shunt / (R_shunt + Zeff - (r * R_shunt ))\n",
    "display(sp.simplify(R_ntc))\n",
    "#print(R_ntc)"
   ]
  },
  {
   "cell_type": "code",
   "execution_count": 6,
   "metadata": {},
   "outputs": [
    {
     "data": {
      "text/latex": [
       "$\\displaystyle \\frac{R_{shunt} U_{shunt} Zeff \\left(R_{shunt} + Zeff\\right)}{\\left(R_{shunt} U_{ntc} - R_{shunt} U_{shunt} - U_{shunt} Zeff\\right)^{2}}$"
      ],
      "text/plain": [
       "R_shunt*U_shunt*Zeff*(R_shunt + Zeff)/(R_shunt*U_ntc - R_shunt*U_shunt - U_shunt*Zeff)**2"
      ]
     },
     "metadata": {},
     "output_type": "display_data"
    },
    {
     "data": {
      "text/latex": [
       "$\\displaystyle - \\frac{R_{shunt} U_{ntc} Zeff \\left(R_{shunt} + Zeff\\right)}{\\left(R_{shunt} U_{ntc} - R_{shunt} U_{shunt} - U_{shunt} Zeff\\right)^{2}}$"
      ],
      "text/plain": [
       "-R_shunt*U_ntc*Zeff*(R_shunt + Zeff)/(R_shunt*U_ntc - R_shunt*U_shunt - U_shunt*Zeff)**2"
      ]
     },
     "metadata": {},
     "output_type": "display_data"
    },
    {
     "data": {
      "text/latex": [
       "$\\displaystyle \\frac{R_{shunt} U_{ntc} Zeff \\left(\\frac{U_{ntc}}{U_{shunt}} - 1\\right)}{U_{shunt} \\left(- \\frac{R_{shunt} U_{ntc}}{U_{shunt}} + R_{shunt} + Zeff\\right)^{2}} + \\frac{U_{ntc} Zeff}{U_{shunt} \\left(- \\frac{R_{shunt} U_{ntc}}{U_{shunt}} + R_{shunt} + Zeff\\right)}$"
      ],
      "text/plain": [
       "R_shunt*U_ntc*Zeff*(U_ntc/U_shunt - 1)/(U_shunt*(-R_shunt*U_ntc/U_shunt + R_shunt + Zeff)**2) + U_ntc*Zeff/(U_shunt*(-R_shunt*U_ntc/U_shunt + R_shunt + Zeff))"
      ]
     },
     "metadata": {},
     "output_type": "display_data"
    }
   ],
   "source": [
    "R_ntc_untc = R_ntc.diff(U_ntc)\n",
    "R_ntc_ushunt = R_ntc.diff(U_shunt)\n",
    "R_ntc_shunt = R_ntc.diff(R_shunt)\n",
    "\n",
    "display(sp.factor(R_ntc_untc),sp.factor(R_ntc_ushunt), R_ntc_shunt)"
   ]
  },
  {
   "cell_type": "code",
   "execution_count": 7,
   "metadata": {},
   "outputs": [
    {
     "data": {
      "text/latex": [
       "$\\displaystyle \\frac{Zeff \\sqrt{R_{shunt}^{2} U_{ntc}^{2} std(ushunt)^{2} \\left(R_{shunt} + Zeff\\right)^{2} + R_{shunt}^{2} U_{shunt}^{2} std(untc)^{2} \\left(R_{shunt} + Zeff\\right)^{2} + U_{ntc}^{2} U_{shunt}^{2} Zeff^{2} std(shunt)^{2}}}{\\left(R_{shunt} U_{ntc} - R_{shunt} U_{shunt} - U_{shunt} Zeff\\right)^{2}}$"
      ],
      "text/plain": [
       "Zeff*sqrt(R_shunt**2*U_ntc**2*std(ushunt)**2*(R_shunt + Zeff)**2 + R_shunt**2*U_shunt**2*std(untc)**2*(R_shunt + Zeff)**2 + U_ntc**2*U_shunt**2*Zeff**2*std(shunt)**2)/(R_shunt*U_ntc - R_shunt*U_shunt - U_shunt*Zeff)**2"
      ]
     },
     "metadata": {},
     "output_type": "display_data"
    }
   ],
   "source": [
    "ntc_std, std_un, std_us, R_shunt_std= sp.symbols('std(ntc) std(untc) std(ushunt) std(shunt)', real=True, positive=True)\n",
    "ntc_std=sp.sqrt((R_ntc_untc * std_un)**2 +(R_ntc_ushunt * std_us)**2 + (R_ntc_shunt * R_shunt_std)**2)\n",
    "display(sp.simplify(ntc_std))"
   ]
  },
  {
   "cell_type": "code",
   "execution_count": 8,
   "metadata": {},
   "outputs": [
    {
     "data": {
      "text/plain": [
       "21625.08509871451"
      ]
     },
     "execution_count": 8,
     "metadata": {},
     "output_type": "execute_result"
    }
   ],
   "source": [
    "10e6*10e3*2.16/(-2.16*10e3+10e3+10e6)\n"
   ]
  },
  {
   "cell_type": "code",
   "execution_count": null,
   "metadata": {},
   "outputs": [],
   "source": []
  }
 ],
 "metadata": {
  "kernelspec": {
   "display_name": "Python 3",
   "language": "python",
   "name": "python3"
  },
  "language_info": {
   "codemirror_mode": {
    "name": "ipython",
    "version": 3
   },
   "file_extension": ".py",
   "mimetype": "text/x-python",
   "name": "python",
   "nbconvert_exporter": "python",
   "pygments_lexer": "ipython3",
   "version": "3.6.9"
  }
 },
 "nbformat": 4,
 "nbformat_minor": 4
}
