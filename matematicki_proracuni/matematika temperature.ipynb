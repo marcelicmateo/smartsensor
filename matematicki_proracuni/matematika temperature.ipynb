{
 "cells": [
  {
   "cell_type": "code",
   "execution_count": 1,
   "metadata": {},
   "outputs": [],
   "source": [
    "import sympy as sp\n",
    "from IPython.display import display, Markdown\n",
    "#mport numpy as np\n",
    "R_ntc, R_25, Betta, T_25, A1, B1, C1, D1 = sp.symbols('R_ntc R_25 Betta T_25 A1 B1 C1 D1', positive=True, real=True)\n",
    "#definicija simbola kasnije za koristanje u funkciji temperature"
   ]
  },
  {
   "cell_type": "markdown",
   "metadata": {},
   "source": [
    "## definicija temperature ntc otpornika preko eksponencijalne jednadzbe\n"
   ]
  },
  {
   "cell_type": "code",
   "execution_count": 2,
   "metadata": {},
   "outputs": [
    {
     "data": {
      "text/latex": [
       "$\\displaystyle \\frac{1}{\\frac{1}{T_{25}} + \\frac{\\log{\\left(\\frac{R_{ntc}}{R_{25}} \\right)}}{Betta}}$"
      ],
      "text/plain": [
       "1/(1/T_25 + log(R_ntc/R_25)/Betta)"
      ]
     },
     "metadata": {},
     "output_type": "display_data"
    },
    {
     "data": {
      "text/latex": [
       "$\\displaystyle \\frac{Betta T_{25}}{Betta - T_{25} \\log{\\left(R_{25} \\right)} + T_{25} \\log{\\left(R_{ntc} \\right)}}$"
      ],
      "text/plain": [
       "Betta*T_25/(Betta - T_25*log(R_25) + T_25*log(R_ntc))"
      ]
     },
     "metadata": {},
     "output_type": "display_data"
    }
   ],
   "source": [
    "T_e=sp.Function('T_e', real= True, positive=True)\n",
    "T_e=(sp.log(R_ntc/R_25)*Betta**(-1) + T_25**(-1))**(-1)\n",
    "display(T_e, sp.factor(T_e))"
   ]
  },
  {
   "cell_type": "markdown",
   "metadata": {},
   "source": [
    "### parcijalne derivacije temperature po svakom clanu "
   ]
  },
  {
   "cell_type": "code",
   "execution_count": 3,
   "metadata": {},
   "outputs": [
    {
     "data": {
      "text/latex": [
       "$\\displaystyle - \\frac{Betta T_{25}^{2}}{R_{ntc} \\left(Betta - T_{25} \\log{\\left(R_{25} \\right)} + T_{25} \\log{\\left(R_{ntc} \\right)}\\right)^{2}}$"
      ],
      "text/plain": [
       "-Betta*T_25**2/(R_ntc*(Betta - T_25*log(R_25) + T_25*log(R_ntc))**2)"
      ]
     },
     "metadata": {},
     "output_type": "display_data"
    },
    {
     "data": {
      "text/latex": [
       "$\\displaystyle - \\frac{T_{25}^{2} \\left(\\log{\\left(R_{25} \\right)} - \\log{\\left(R_{ntc} \\right)}\\right)}{\\left(Betta - T_{25} \\log{\\left(R_{25} \\right)} + T_{25} \\log{\\left(R_{ntc} \\right)}\\right)^{2}}$"
      ],
      "text/plain": [
       "-T_25**2*(log(R_25) - log(R_ntc))/(Betta - T_25*log(R_25) + T_25*log(R_ntc))**2"
      ]
     },
     "metadata": {},
     "output_type": "display_data"
    },
    {
     "data": {
      "text/latex": [
       "$\\displaystyle \\frac{1}{Betta R_{25} \\left(\\frac{1}{T_{25}} + \\frac{\\log{\\left(\\frac{R_{ntc}}{R_{25}} \\right)}}{Betta}\\right)^{2}}$"
      ],
      "text/plain": [
       "1/(Betta*R_25*(1/T_25 + log(R_ntc/R_25)/Betta)**2)"
      ]
     },
     "metadata": {},
     "output_type": "display_data"
    }
   ],
   "source": [
    "t_ntc=T_e.diff(R_ntc)\n",
    "t_betta=T_e.diff(Betta)\n",
    "t_r_25=T_e.diff(R_25)\n",
    "display(sp.factor(t_ntc), sp.factor(t_betta), sp.sympify(t_r_25))"
   ]
  },
  {
   "cell_type": "markdown",
   "metadata": {},
   "source": [
    "## uz dodane devijacije elemenata potpuna slozena nesigurnost T"
   ]
  },
  {
   "cell_type": "code",
   "execution_count": 4,
   "metadata": {},
   "outputs": [
    {
     "data": {
      "text/latex": [
       "$\\displaystyle \\frac{T_{25}^{2} \\sqrt{Betta^{2} R_{25}^{2} std(ntc)^{2} + Betta^{2} R_{ntc}^{2} std_{R 25}^{2} + R_{25}^{2} R_{ntc}^{2} std(betta)^{2} \\log{\\left(\\frac{R_{ntc}}{R_{25}} \\right)}^{2}}}{R_{25} R_{ntc} \\left(Betta + \\log{\\left(\\left(\\frac{R_{ntc}}{R_{25}}\\right)^{T_{25}} \\right)}\\right)^{2}}$"
      ],
      "text/plain": [
       "T_25**2*sqrt(Betta**2*R_25**2*std(ntc)**2 + Betta**2*R_ntc**2*std_R_25**2 + R_25**2*R_ntc**2*std(betta)**2*log(R_ntc/R_25)**2)/(R_25*R_ntc*(Betta + log((R_ntc/R_25)**T_25))**2)"
      ]
     },
     "metadata": {},
     "output_type": "display_data"
    },
    {
     "name": "stdout",
     "output_type": "stream",
     "text": [
      "T_25**2*sqrt(Betta**2*R_25**2*std(ntc)**2 + Betta**2*R_ntc**2*std_R_25**2 + R_25**2*R_ntc**2*std(betta)**2*log(R_ntc/R_25)**2)/(R_25*R_ntc*(Betta + log((R_ntc/R_25)**T_25))**2)\n"
     ]
    }
   ],
   "source": [
    "ntc_std, betta_std, r25_std= sp.symbols('std(ntc) std(betta) std_R_25', real=True, positive=True)\n",
    "T_e_std=sp.sqrt((t_ntc * ntc_std)**2 + (t_betta * betta_std)**2 + (t_r_25* r25_std)**2)\n",
    "display(sp.simplify(T_e_std))\n",
    "print(sp.simplify(T_e_std))"
   ]
  },
  {
   "cell_type": "markdown",
   "metadata": {},
   "source": [
    "## temperatura sa polinomom 3 reda"
   ]
  },
  {
   "cell_type": "code",
   "execution_count": 5,
   "metadata": {},
   "outputs": [
    {
     "data": {
      "text/latex": [
       "$\\displaystyle \\frac{1}{A_{1} + B_{1} \\log{\\left(\\frac{R_{ntc}}{R_{25}} \\right)} + C_{1} \\log{\\left(\\frac{R_{ntc}}{R_{25}} \\right)}^{2} + D_{1} \\log{\\left(\\frac{R_{ntc}}{R_{25}} \\right)}^{3}}$"
      ],
      "text/plain": [
       "1/(A1 + B1*log(R_ntc/R_25) + C1*log(R_ntc/R_25)**2 + D1*log(R_ntc/R_25)**3)"
      ]
     },
     "metadata": {},
     "output_type": "display_data"
    }
   ],
   "source": [
    "T_3=sp.Function('T_3', real= True, positive=True)\n",
    "T_3=1/(A1 + B1*sp.ln(R_ntc/R_25)+C1*sp.ln(R_ntc/R_25)**2+D1*sp.ln(R_ntc/R_25)**3)\n",
    "display(T_3)"
   ]
  },
  {
   "cell_type": "markdown",
   "metadata": {},
   "source": [
    "### standardna devijacija"
   ]
  },
  {
   "cell_type": "code",
   "execution_count": 6,
   "metadata": {},
   "outputs": [
    {
     "data": {
      "text/latex": [
       "$\\displaystyle \\frac{- \\frac{B_{1}}{R_{ntc}} - \\frac{2 C_{1} \\log{\\left(\\frac{R_{ntc}}{R_{25}} \\right)}}{R_{ntc}} - \\frac{3 D_{1} \\log{\\left(\\frac{R_{ntc}}{R_{25}} \\right)}^{2}}{R_{ntc}}}{\\left(A_{1} + B_{1} \\log{\\left(\\frac{R_{ntc}}{R_{25}} \\right)} + C_{1} \\log{\\left(\\frac{R_{ntc}}{R_{25}} \\right)}^{2} + D_{1} \\log{\\left(\\frac{R_{ntc}}{R_{25}} \\right)}^{3}\\right)^{2}}$"
      ],
      "text/plain": [
       "(-B1/R_ntc - 2*C1*log(R_ntc/R_25)/R_ntc - 3*D1*log(R_ntc/R_25)**2/R_ntc)/(A1 + B1*log(R_ntc/R_25) + C1*log(R_ntc/R_25)**2 + D1*log(R_ntc/R_25)**3)**2"
      ]
     },
     "metadata": {},
     "output_type": "display_data"
    },
    {
     "data": {
      "text/latex": [
       "$\\displaystyle \\frac{\\frac{B_{1}}{R_{25}} + \\frac{2 C_{1} \\log{\\left(\\frac{R_{ntc}}{R_{25}} \\right)}}{R_{25}} + \\frac{3 D_{1} \\log{\\left(\\frac{R_{ntc}}{R_{25}} \\right)}^{2}}{R_{25}}}{\\left(A_{1} + B_{1} \\log{\\left(\\frac{R_{ntc}}{R_{25}} \\right)} + C_{1} \\log{\\left(\\frac{R_{ntc}}{R_{25}} \\right)}^{2} + D_{1} \\log{\\left(\\frac{R_{ntc}}{R_{25}} \\right)}^{3}\\right)^{2}}$"
      ],
      "text/plain": [
       "(B1/R_25 + 2*C1*log(R_ntc/R_25)/R_25 + 3*D1*log(R_ntc/R_25)**2/R_25)/(A1 + B1*log(R_ntc/R_25) + C1*log(R_ntc/R_25)**2 + D1*log(R_ntc/R_25)**3)**2"
      ]
     },
     "metadata": {},
     "output_type": "display_data"
    }
   ],
   "source": [
    "t_ntc=T_3.diff(R_ntc)\n",
    "t_r_25=T_3.diff(R_25)\n",
    "display(sp.sympify(t_ntc), (t_r_25))"
   ]
  },
  {
   "cell_type": "code",
   "execution_count": 7,
   "metadata": {},
   "outputs": [
    {
     "data": {
      "text/latex": [
       "$\\displaystyle \\frac{\\sqrt{R_{25}^{2} std(ntc)^{2} + R_{ntc}^{2} std_{R 25}^{2}} \\left|{B_{1} + 3 D_{1} \\log{\\left(\\frac{R_{ntc}}{R_{25}} \\right)}^{2} + \\log{\\left(\\left(\\frac{R_{ntc}}{R_{25}}\\right)^{2 C_{1}} \\right)}}\\right|}{R_{25} R_{ntc} \\left(A_{1} + C_{1} \\log{\\left(\\frac{R_{ntc}}{R_{25}} \\right)}^{2} + D_{1} \\log{\\left(\\frac{R_{ntc}}{R_{25}} \\right)}^{3} + \\log{\\left(\\left(\\frac{R_{ntc}}{R_{25}}\\right)^{B_{1}} \\right)}\\right)^{2}}$"
      ],
      "text/plain": [
       "sqrt(R_25**2*std(ntc)**2 + R_ntc**2*std_R_25**2)*Abs(B1 + 3*D1*log(R_ntc/R_25)**2 + log((R_ntc/R_25)**(2*C1)))/(R_25*R_ntc*(A1 + C1*log(R_ntc/R_25)**2 + D1*log(R_ntc/R_25)**3 + log((R_ntc/R_25)**B1))**2)"
      ]
     },
     "metadata": {},
     "output_type": "display_data"
    },
    {
     "name": "stdout",
     "output_type": "stream",
     "text": [
      "sqrt(R_25**2*std(ntc)**2 + R_ntc**2*std_R_25**2)*Abs(B1 + 3*D1*log(R_ntc/R_25)**2 + log((R_ntc/R_25)**(2*C1)))/(R_25*R_ntc*(A1 + C1*log(R_ntc/R_25)**2 + D1*log(R_ntc/R_25)**3 + log((R_ntc/R_25)**B1))**2)\n"
     ]
    }
   ],
   "source": [
    "T_3_std=sp.sqrt((t_ntc * ntc_std)**2 +(t_r_25 * r25_std)**2)\n",
    "display(sp.simplify((T_3_std)))\n",
    "print(sp.simplify((T_3_std)))"
   ]
  }
 ],
 "metadata": {
  "kernelspec": {
   "display_name": "Python 3",
   "language": "python",
   "name": "python3"
  },
  "language_info": {
   "codemirror_mode": {
    "name": "ipython",
    "version": 3
   },
   "file_extension": ".py",
   "mimetype": "text/x-python",
   "name": "python",
   "nbconvert_exporter": "python",
   "pygments_lexer": "ipython3",
   "version": "3.6.9"
  }
 },
 "nbformat": 4,
 "nbformat_minor": 4
}
